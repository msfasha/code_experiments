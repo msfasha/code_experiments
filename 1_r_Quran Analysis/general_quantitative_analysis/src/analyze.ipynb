{
 "cells": [
  {
   "cell_type": "markdown",
   "id": "69e69e36",
   "metadata": {},
   "source": [
    "### Quran Analysis Project"
   ]
  },
  {
   "cell_type": "code",
   "execution_count": 1,
   "id": "46119ff9",
   "metadata": {},
   "outputs": [
    {
     "data": {
      "text/plain": [
       "['ذلك', 'الكتاب', 'لا', 'ريب', 'ۛ', 'فيه', 'ۛ', 'هدى', 'للمتقين']"
      ]
     },
     "execution_count": 1,
     "metadata": {},
     "output_type": "execute_result"
    }
   ],
   "source": [
    "import pandas as pd\n",
    "\n",
    "# Load the CSV file into a DataFrame\n",
    "path = \"datasets\\\\quran-simple-clean.csv\"\n",
    "df = pd.read_csv(path)\n",
    "\n",
    "# Display the DataFrame\n",
    "df.iloc[8][\"text\"].split(\" \")"
   ]
  },
  {
   "cell_type": "markdown",
   "id": "f210f6dc",
   "metadata": {},
   "source": [
    "### Preprocess Verses\n",
    "\n",
    "- Remove  بسم الله الرحمن الرحيم  from each the begining of each sura\n",
    "- Remove punctuation, characters and spaces\n"
   ]
  },
  {
   "cell_type": "code",
   "execution_count": 2,
   "id": "385a17b9",
   "metadata": {},
   "outputs": [
    {
     "data": {
      "application/vnd.microsoft.datawrangler.viewer.v0+json": {
       "columns": [
        {
         "name": "index",
         "rawType": "int64",
         "type": "integer"
        },
        {
         "name": "sura",
         "rawType": "int64",
         "type": "integer"
        },
        {
         "name": "aya",
         "rawType": "int64",
         "type": "integer"
        },
        {
         "name": "text",
         "rawType": "object",
         "type": "string"
        }
       ],
       "conversionMethod": "pd.DataFrame",
       "ref": "4d3f0bbd-f5f5-4e69-a917-8da65db485f0",
       "rows": [
        [
         "1",
         "1",
         "2",
         "الحمد لله رب العالمين"
        ],
        [
         "2",
         "1",
         "3",
         "الرحمن الرحيم"
        ],
        [
         "3",
         "1",
         "4",
         "مالك يوم الدين"
        ],
        [
         "4",
         "1",
         "5",
         "إياك نعبد وإياك نستعين"
        ],
        [
         "5",
         "1",
         "6",
         "اهدنا الصراط المستقيم"
        ],
        [
         "6",
         "1",
         "7",
         "صراط الذين أنعمت عليهم غير المغضوب عليهم ولا الضالين"
        ],
        [
         "7",
         "2",
         "1",
         "الم"
        ],
        [
         "8",
         "2",
         "2",
         "ذلك الكتاب لا ريب فيه هدى للمتقين"
        ],
        [
         "9",
         "2",
         "3",
         "الذين يؤمنون بالغيب ويقيمون الصلاة ومما رزقناهم ينفقون"
        ],
        [
         "10",
         "2",
         "4",
         "والذين يؤمنون بما أنزل إليك وما أنزل من قبلك وبالآخرة هم يوقنون"
        ]
       ],
       "shape": {
        "columns": 3,
        "rows": 10
       }
      },
      "text/html": [
       "<div>\n",
       "<style scoped>\n",
       "    .dataframe tbody tr th:only-of-type {\n",
       "        vertical-align: middle;\n",
       "    }\n",
       "\n",
       "    .dataframe tbody tr th {\n",
       "        vertical-align: top;\n",
       "    }\n",
       "\n",
       "    .dataframe thead th {\n",
       "        text-align: right;\n",
       "    }\n",
       "</style>\n",
       "<table border=\"1\" class=\"dataframe\">\n",
       "  <thead>\n",
       "    <tr style=\"text-align: right;\">\n",
       "      <th></th>\n",
       "      <th>sura</th>\n",
       "      <th>aya</th>\n",
       "      <th>text</th>\n",
       "    </tr>\n",
       "  </thead>\n",
       "  <tbody>\n",
       "    <tr>\n",
       "      <th>1</th>\n",
       "      <td>1</td>\n",
       "      <td>2</td>\n",
       "      <td>الحمد لله رب العالمين</td>\n",
       "    </tr>\n",
       "    <tr>\n",
       "      <th>2</th>\n",
       "      <td>1</td>\n",
       "      <td>3</td>\n",
       "      <td>الرحمن الرحيم</td>\n",
       "    </tr>\n",
       "    <tr>\n",
       "      <th>3</th>\n",
       "      <td>1</td>\n",
       "      <td>4</td>\n",
       "      <td>مالك يوم الدين</td>\n",
       "    </tr>\n",
       "    <tr>\n",
       "      <th>4</th>\n",
       "      <td>1</td>\n",
       "      <td>5</td>\n",
       "      <td>إياك نعبد وإياك نستعين</td>\n",
       "    </tr>\n",
       "    <tr>\n",
       "      <th>5</th>\n",
       "      <td>1</td>\n",
       "      <td>6</td>\n",
       "      <td>اهدنا الصراط المستقيم</td>\n",
       "    </tr>\n",
       "    <tr>\n",
       "      <th>6</th>\n",
       "      <td>1</td>\n",
       "      <td>7</td>\n",
       "      <td>صراط الذين أنعمت عليهم غير المغضوب عليهم ولا ا...</td>\n",
       "    </tr>\n",
       "    <tr>\n",
       "      <th>7</th>\n",
       "      <td>2</td>\n",
       "      <td>1</td>\n",
       "      <td>الم</td>\n",
       "    </tr>\n",
       "    <tr>\n",
       "      <th>8</th>\n",
       "      <td>2</td>\n",
       "      <td>2</td>\n",
       "      <td>ذلك الكتاب لا ريب فيه هدى للمتقين</td>\n",
       "    </tr>\n",
       "    <tr>\n",
       "      <th>9</th>\n",
       "      <td>2</td>\n",
       "      <td>3</td>\n",
       "      <td>الذين يؤمنون بالغيب ويقيمون الصلاة ومما رزقناه...</td>\n",
       "    </tr>\n",
       "    <tr>\n",
       "      <th>10</th>\n",
       "      <td>2</td>\n",
       "      <td>4</td>\n",
       "      <td>والذين يؤمنون بما أنزل إليك وما أنزل من قبلك و...</td>\n",
       "    </tr>\n",
       "  </tbody>\n",
       "</table>\n",
       "</div>"
      ],
      "text/plain": [
       "    sura  aya                                               text\n",
       "1      1    2                              الحمد لله رب العالمين\n",
       "2      1    3                                      الرحمن الرحيم\n",
       "3      1    4                                     مالك يوم الدين\n",
       "4      1    5                             إياك نعبد وإياك نستعين\n",
       "5      1    6                              اهدنا الصراط المستقيم\n",
       "6      1    7  صراط الذين أنعمت عليهم غير المغضوب عليهم ولا ا...\n",
       "7      2    1                                                الم\n",
       "8      2    2                  ذلك الكتاب لا ريب فيه هدى للمتقين\n",
       "9      2    3  الذين يؤمنون بالغيب ويقيمون الصلاة ومما رزقناه...\n",
       "10     2    4  والذين يؤمنون بما أنزل إليك وما أنزل من قبلك و..."
      ]
     },
     "execution_count": 2,
     "metadata": {},
     "output_type": "execute_result"
    }
   ],
   "source": [
    "# Correcting the row-wise application with axis=1\n",
    "def clean_first_verse(row):\n",
    "    phrase = 'بسم الله الرحمن الرحيم'\n",
    "    if row['aya'] == 1 and row['text'].startswith(phrase):\n",
    "        return row['text'][len(phrase):].strip()\n",
    "    return row['text']\n",
    "\n",
    "# Apply cleaning function correctly row-wise\n",
    "df['text'] = df.apply(clean_first_verse, axis=1)\n",
    "\n",
    "# Remove any characters other than Arabic letters and spaces\n",
    "df['text'] = df['text'].str.replace(r'[^ء-ي\\s]', '', regex=True).str.replace(r'\\s+', ' ', regex=True).str.strip()\n",
    "\n",
    "# Drop rows where the text became empty after cleaning\n",
    "df_normalized = df[df['text'] != '']\n",
    "\n",
    "\n",
    "df_normalized.head(10)\n"
   ]
  },
  {
   "cell_type": "markdown",
   "id": "93328c7f",
   "metadata": {},
   "source": [
    "Count words"
   ]
  },
  {
   "cell_type": "code",
   "execution_count": 9,
   "id": "e6839647",
   "metadata": {},
   "outputs": [
    {
     "data": {
      "text/plain": [
       "[('من', 2763),\n",
       " ('الله', 2152),\n",
       " ('في', 1185),\n",
       " ('ما', 1013),\n",
       " ('إن', 966),\n",
       " ('لا', 812),\n",
       " ('الذين', 810),\n",
       " ('على', 670),\n",
       " ('إلا', 664),\n",
       " ('ولا', 658)]"
      ]
     },
     "execution_count": 9,
     "metadata": {},
     "output_type": "execute_result"
    }
   ],
   "source": [
    "from collections import Counter\n",
    "import pandas as pd\n",
    "import matplotlib.pyplot as plt\n",
    "import arabic_reshaper\n",
    "from bidi.algorithm import get_display\n",
    "import matplotlib.font_manager as fm\n",
    "\n",
    "# Step 1: Count word frequency\n",
    "words = ' '.join(df_normalized['text']).split()\n",
    "word_counts = Counter(words)\n",
    "# Display the first 10 most common words\n",
    "word_counts.most_common(10)\n",
    "\n"
   ]
  },
  {
   "cell_type": "markdown",
   "id": "bdb378ff",
   "metadata": {},
   "source": [
    "Create df and display counts"
   ]
  },
  {
   "cell_type": "code",
   "execution_count": 4,
   "id": "3aff2d55",
   "metadata": {},
   "outputs": [
    {
     "data": {
      "application/vnd.microsoft.datawrangler.viewer.v0+json": {
       "columns": [
        {
         "name": "index",
         "rawType": "int64",
         "type": "integer"
        },
        {
         "name": "word",
         "rawType": "object",
         "type": "string"
        },
        {
         "name": "frequency",
         "rawType": "int64",
         "type": "integer"
        }
       ],
       "conversionMethod": "pd.DataFrame",
       "ref": "5123ad90-01f3-4f66-90e0-ec85843ea889",
       "rows": [
        [
         "0",
         "من",
         "2763"
        ],
        [
         "1",
         "الله",
         "2152"
        ],
        [
         "2",
         "في",
         "1185"
        ],
        [
         "3",
         "ما",
         "1013"
        ],
        [
         "4",
         "إن",
         "966"
        ],
        [
         "5",
         "لا",
         "812"
        ],
        [
         "6",
         "الذين",
         "810"
        ],
        [
         "7",
         "على",
         "670"
        ],
        [
         "8",
         "إلا",
         "664"
        ],
        [
         "9",
         "ولا",
         "658"
        ],
        [
         "10",
         "وما",
         "646"
        ],
        [
         "11",
         "أن",
         "638"
        ],
        [
         "12",
         "قال",
         "416"
        ],
        [
         "13",
         "إلى",
         "405"
        ],
        [
         "14",
         "لهم",
         "373"
        ],
        [
         "15",
         "يا",
         "350"
        ],
        [
         "16",
         "ومن",
         "342"
        ],
        [
         "17",
         "ثم",
         "340"
        ],
        [
         "18",
         "لكم",
         "337"
        ],
        [
         "19",
         "به",
         "327"
        ],
        [
         "20",
         "كان",
         "323"
        ],
        [
         "21",
         "بما",
         "296"
        ],
        [
         "22",
         "قل",
         "294"
        ],
        [
         "23",
         "الأرض",
         "287"
        ],
        [
         "24",
         "أو",
         "280"
        ],
        [
         "25",
         "ذلك",
         "280"
        ],
        [
         "26",
         "له",
         "275"
        ],
        [
         "27",
         "الذي",
         "268"
        ],
        [
         "28",
         "هو",
         "265"
        ],
        [
         "29",
         "آمنوا",
         "263"
        ],
        [
         "30",
         "هم",
         "261"
        ],
        [
         "31",
         "وإن",
         "254"
        ],
        [
         "32",
         "قالوا",
         "250"
        ],
        [
         "33",
         "كل",
         "245"
        ],
        [
         "34",
         "فيها",
         "241"
        ],
        [
         "35",
         "والله",
         "240"
        ],
        [
         "36",
         "كانوا",
         "229"
        ],
        [
         "37",
         "عن",
         "223"
        ],
        [
         "38",
         "إذا",
         "221"
        ],
        [
         "39",
         "ربك",
         "220"
        ],
        [
         "40",
         "يوم",
         "217"
        ],
        [
         "41",
         "عليهم",
         "214"
        ],
        [
         "42",
         "هذا",
         "190"
        ],
        [
         "43",
         "شيء",
         "190"
        ],
        [
         "44",
         "كفروا",
         "189"
        ],
        [
         "45",
         "كنتم",
         "188"
        ],
        [
         "46",
         "السماوات",
         "182"
        ],
        [
         "47",
         "الناس",
         "182"
        ],
        [
         "48",
         "لم",
         "178"
        ],
        [
         "49",
         "وهو",
         "171"
        ]
       ],
       "shape": {
        "columns": 2,
        "rows": 14868
       }
      },
      "text/html": [
       "<div>\n",
       "<style scoped>\n",
       "    .dataframe tbody tr th:only-of-type {\n",
       "        vertical-align: middle;\n",
       "    }\n",
       "\n",
       "    .dataframe tbody tr th {\n",
       "        vertical-align: top;\n",
       "    }\n",
       "\n",
       "    .dataframe thead th {\n",
       "        text-align: right;\n",
       "    }\n",
       "</style>\n",
       "<table border=\"1\" class=\"dataframe\">\n",
       "  <thead>\n",
       "    <tr style=\"text-align: right;\">\n",
       "      <th></th>\n",
       "      <th>word</th>\n",
       "      <th>frequency</th>\n",
       "    </tr>\n",
       "  </thead>\n",
       "  <tbody>\n",
       "    <tr>\n",
       "      <th>0</th>\n",
       "      <td>من</td>\n",
       "      <td>2763</td>\n",
       "    </tr>\n",
       "    <tr>\n",
       "      <th>1</th>\n",
       "      <td>الله</td>\n",
       "      <td>2152</td>\n",
       "    </tr>\n",
       "    <tr>\n",
       "      <th>2</th>\n",
       "      <td>في</td>\n",
       "      <td>1185</td>\n",
       "    </tr>\n",
       "    <tr>\n",
       "      <th>3</th>\n",
       "      <td>ما</td>\n",
       "      <td>1013</td>\n",
       "    </tr>\n",
       "    <tr>\n",
       "      <th>4</th>\n",
       "      <td>إن</td>\n",
       "      <td>966</td>\n",
       "    </tr>\n",
       "    <tr>\n",
       "      <th>...</th>\n",
       "      <td>...</td>\n",
       "      <td>...</td>\n",
       "    </tr>\n",
       "    <tr>\n",
       "      <th>14863</th>\n",
       "      <td>الأبتر</td>\n",
       "      <td>1</td>\n",
       "    </tr>\n",
       "    <tr>\n",
       "      <th>14864</th>\n",
       "      <td>عابد</td>\n",
       "      <td>1</td>\n",
       "    </tr>\n",
       "    <tr>\n",
       "      <th>14865</th>\n",
       "      <td>عبدتم</td>\n",
       "      <td>1</td>\n",
       "    </tr>\n",
       "    <tr>\n",
       "      <th>14866</th>\n",
       "      <td>والفتح</td>\n",
       "      <td>1</td>\n",
       "    </tr>\n",
       "    <tr>\n",
       "      <th>14867</th>\n",
       "      <td>ورأيت</td>\n",
       "      <td>1</td>\n",
       "    </tr>\n",
       "  </tbody>\n",
       "</table>\n",
       "<p>14868 rows × 2 columns</p>\n",
       "</div>"
      ],
      "text/plain": [
       "         word  frequency\n",
       "0          من       2763\n",
       "1        الله       2152\n",
       "2          في       1185\n",
       "3          ما       1013\n",
       "4          إن        966\n",
       "...       ...        ...\n",
       "14863  الأبتر          1\n",
       "14864    عابد          1\n",
       "14865   عبدتم          1\n",
       "14866  والفتح          1\n",
       "14867   ورأيت          1\n",
       "\n",
       "[14868 rows x 2 columns]"
      ]
     },
     "execution_count": 4,
     "metadata": {},
     "output_type": "execute_result"
    }
   ],
   "source": [
    "# Step 2: Create DataFrame\n",
    "word_freq_df = pd.DataFrame(word_counts.items(), columns=['word', 'frequency'])\n",
    "word_freq_df = word_freq_df.sort_values(by='frequency', ascending=False).reset_index(drop=True)\n",
    "word_freq_df\n"
   ]
  },
  {
   "cell_type": "markdown",
   "id": "f3934a39",
   "metadata": {},
   "source": [
    "Display in a Bar Plot"
   ]
  },
  {
   "cell_type": "code",
   "execution_count": 5,
   "id": "461a21a6",
   "metadata": {},
   "outputs": [
    {
     "data": {
      "image/png": "[encoded data removed]",
      "text/plain": [
       "<Figure size 1200x800 with 1 Axes>"
      ]
     },
     "metadata": {},
     "output_type": "display_data"
    }
   ],
   "source": [
    "# Step 3: Fix Arabic word rendering\n",
    "word_freq_df['word_display'] = word_freq_df['word'].apply(lambda x: get_display(arabic_reshaper.reshape(x)))\n",
    "\n",
    "# Step 4: Use Arial font (assumes Arial is installed on your system)\n",
    "arial_font = fm.FontProperties(family='Arial')\n",
    "\n",
    "# Step 5: Plot\n",
    "plt.figure(figsize=(12, 8))\n",
    "plt.barh(word_freq_df['word_display'][:20][::-1], word_freq_df['frequency'][:20][::-1])\n",
    "plt.xlabel('Frequency', fontproperties=arial_font)\n",
    "plt.title('Top 20 Most Frequent Words in Quran', fontproperties=arial_font)\n",
    "plt.xticks(fontproperties=arial_font)\n",
    "plt.yticks(fontproperties=arial_font)\n",
    "plt.grid(axis='x', linestyle='--')\n",
    "plt.tight_layout()\n",
    "plt.show()"
   ]
  },
  {
   "cell_type": "markdown",
   "id": "b8face33",
   "metadata": {},
   "source": [
    "Remove stop words and display counts again"
   ]
  },
  {
   "cell_type": "code",
   "execution_count": 11,
   "id": "c6759dda",
   "metadata": {},
   "outputs": [
    {
     "name": "stderr",
     "output_type": "stream",
     "text": [
      "[nltk_data] Downloading package stopwords to\n",
      "[nltk_data]     C:\\Users\\me\\AppData\\Roaming\\nltk_data...\n",
      "[nltk_data]   Package stopwords is already up-to-date!\n",
      "C:\\Users\\me\\AppData\\Local\\Temp\\ipykernel_15408\\554506717.py:12: SettingWithCopyWarning: \n",
      "A value is trying to be set on a copy of a slice from a DataFrame.\n",
      "Try using .loc[row_indexer,col_indexer] = value instead\n",
      "\n",
      "See the caveats in the documentation: https://pandas.pydata.org/pandas-docs/stable/user_guide/indexing.html#returning-a-view-versus-a-copy\n",
      "  df_normalized['filtered_text'] = df_normalized['text'].apply(\n"
     ]
    },
    {
     "data": {
      "text/plain": [
       "[('الله', 2152),\n",
       " ('قال', 416),\n",
       " ('قل', 294),\n",
       " ('الأرض', 287),\n",
       " ('آمنوا', 263),\n",
       " ('قالوا', 250),\n",
       " ('والله', 240),\n",
       " ('كانوا', 229),\n",
       " ('ربك', 220),\n",
       " ('يوم', 217),\n",
       " ('عليهم', 214),\n",
       " ('شيء', 190),\n",
       " ('كفروا', 189),\n",
       " ('كنتم', 188),\n",
       " ('الناس', 182),\n",
       " ('السماوات', 182),\n",
       " ('عليكم', 164),\n",
       " ('الكتاب', 163),\n",
       " ('والأرض', 157),\n",
       " ('منهم', 153),\n",
       " ('عذاب', 150),\n",
       " ('بالله', 139),\n",
       " ('وهم', 137),\n",
       " ('إني', 131),\n",
       " ('رب', 130),\n",
       " ('موسى', 129),\n",
       " ('ولقد', 129),\n",
       " ('قوم', 126),\n",
       " ('لله', 116),\n",
       " ('خير', 116),\n",
       " ('يشاء', 116),\n",
       " ('الدنيا', 115),\n",
       " ('ربهم', 111),\n",
       " ('السماء', 109),\n",
       " ('الحق', 109),\n",
       " ('منكم', 107),\n",
       " ('عليم', 106),\n",
       " ('ربنا', 106),\n",
       " ('ربكم', 102),\n",
       " ('النار', 102),\n",
       " ('فلما', 101),\n",
       " ('أنزل', 95),\n",
       " ('لمن', 94),\n",
       " ('ربي', 94),\n",
       " ('سبيل', 87),\n",
       " ('يؤمنون', 86),\n",
       " ('فما', 86),\n",
       " ('العذاب', 85),\n",
       " ('وقال', 85),\n",
       " ('وكان', 84),\n",
       " ('مبين', 84),\n",
       " ('خلق', 83),\n",
       " ('تعملون', 83),\n",
       " ('يعلمون', 82),\n",
       " ('للذين', 80),\n",
       " ('ألم', 78),\n",
       " ('المؤمنين', 78),\n",
       " ('شيئا', 77),\n",
       " ('إليه', 76),\n",
       " ('عنهم', 75),\n",
       " ('بالحق', 74),\n",
       " ('ربه', 73),\n",
       " ('إله', 73),\n",
       " ('أنفسهم', 72),\n",
       " ('جهنم', 72),\n",
       " ('يعلم', 71),\n",
       " ('الآخرة', 71),\n",
       " ('القيامة', 70),\n",
       " ('وأن', 69),\n",
       " ('فرعون', 67),\n",
       " ('ورسوله', 66),\n",
       " ('قلوبهم', 65),\n",
       " ('يومئذ', 65),\n",
       " ('الظالمين', 64),\n",
       " ('العزيز', 64),\n",
       " ('إنهم', 63),\n",
       " ('الشيطان', 63),\n",
       " ('الحياة', 63),\n",
       " ('كنا', 63),\n",
       " ('جنات', 62),\n",
       " ('أصحاب', 62),\n",
       " ('إبراهيم', 62),\n",
       " ('القوم', 62),\n",
       " ('العالمين', 61),\n",
       " ('الصالحات', 61),\n",
       " ('وقالوا', 61),\n",
       " ('رحيم', 61),\n",
       " ('لعلكم', 59),\n",
       " ('الليل', 59),\n",
       " ('الصلاة', 58),\n",
       " ('بينهم', 58),\n",
       " ('الإنسان', 58),\n",
       " ('بآياتنا', 57),\n",
       " ('فقد', 57),\n",
       " ('جاء', 57),\n",
       " ('شاء', 56),\n",
       " ('تعلمون', 56),\n",
       " ('الجنة', 56),\n",
       " ('يعملون', 56),\n",
       " ('أهل', 56)]"
      ]
     },
     "execution_count": 11,
     "metadata": {},
     "output_type": "execute_result"
    }
   ],
   "source": [
    "import nltk\n",
    "import pandas as pd\n",
    "\n",
    "# Download the Arabic stop words from NLTK\n",
    "nltk.download('stopwords')\n",
    "from nltk.corpus import stopwords\n",
    "\n",
    "# Arabic stop words list\n",
    "arabic_stopwords = set(stopwords.words('arabic'))\n",
    "\n",
    "# Filter words in each verse\n",
    "df_normalized['filtered_text'] = df_normalized['text'].apply(\n",
    "    lambda verse: ' '.join([word for word in verse.split() if word not in arabic_stopwords])\n",
    ")\n",
    "\n",
    "\n",
    "# Step 1: Count word frequency\n",
    "words = ' '.join(df_normalized['filtered_text']).split()\n",
    "word_counts = Counter(words)\n",
    "# Display the first 10 most common words\n",
    "word_counts.most_common(100)"
   ]
  }
 ],
 "metadata": {
  "kernelspec": {
   "display_name": "Python 3",
   "language": "python",
   "name": "python3"
  },
  "language_info": {
   "codemirror_mode": {
    "name": "ipython",
    "version": 3
   },
   "file_extension": ".py",
   "mimetype": "text/x-python",
   "name": "python",
   "nbconvert_exporter": "python",
   "pygments_lexer": "ipython3",
   "version": "3.10.0"
  }
 },
 "nbformat": 4,
 "nbformat_minor": 5
}

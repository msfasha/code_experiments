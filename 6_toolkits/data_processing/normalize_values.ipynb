{
  "nbformat": 4,
  "nbformat_minor": 0,
  "metadata": {
    "colab": {
      "name": "normalize values.ipynb",
      "provenance": [],
      "authorship_tag": "ABX9TyPb2XHq5KWuCPXRW0bK2CKQ",
      "include_colab_link": true
    },
    "kernelspec": {
      "name": "python3",
      "display_name": "Python 3"
    },
    "language_info": {
      "name": "python"
    }
  },
  "cells": [
    {
      "cell_type": "markdown",
      "metadata": {
        "id": "view-in-github",
        "colab_type": "text"
      },
      "source": [
        "<a href=\"https://colab.research.google.com/github/msfasha/normalize_ranges/blob/main/normalize_values.ipynb\" target=\"_parent\"><img src=\"https://colab.research.google.com/assets/colab-badge.svg\" alt=\"Open In Colab\"/></a>"
      ]
    },
    {
      "cell_type": "markdown",
      "metadata": {
        "id": "tZHOgOKfMJ7s"
      },
      "source": [
        "Load data file"
      ]
    },
    {
      "cell_type": "code",
      "metadata": {
        "id": "3SlqJ9jEveM-"
      },
      "source": [
        "import pandas as pd\n",
        "df = pd.read_csv(\"nrw_results.csv\")\n",
        "\n",
        "\n",
        "print(df.head(5))"
      ],
      "execution_count": null,
      "outputs": []
    },
    {
      "cell_type": "markdown",
      "metadata": {
        "id": "bKYPZJ6yMTgn"
      },
      "source": [
        "Examine content\n",
        "\n",
        "---\n",
        "\n"
      ]
    },
    {
      "cell_type": "code",
      "metadata": {
        "id": "sCy5nVZRJTAe"
      },
      "source": [
        "print(df.dtypes)\n",
        "print(df.info)"
      ],
      "execution_count": null,
      "outputs": []
    },
    {
      "cell_type": "markdown",
      "metadata": {
        "id": "Cwzdjd8ZMb58"
      },
      "source": [
        "Define linear normalize function"
      ]
    },
    {
      "cell_type": "code",
      "metadata": {
        "id": "B2tx17EA7zyv"
      },
      "source": [
        "def normalize_linear(OldMin, OldMax, NewMin, NewMax, OldValue): \n",
        "  NewValue = (((OldValue - OldMin) * (NewMax - NewMin)) / (OldMax - OldMin)) + NewMin\n",
        "  return NewValue\n",
        "\n"
      ],
      "execution_count": 47,
      "outputs": []
    },
    {
      "cell_type": "markdown",
      "metadata": {
        "id": "vG25kzdxMjo-"
      },
      "source": [
        "Normalize the required values"
      ]
    },
    {
      "cell_type": "code",
      "metadata": {
        "colab": {
          "base_uri": "https://localhost:8080/",
          "height": 404
        },
        "id": "q-A4oHbs9Pop",
        "outputId": "5a55745b-baaf-46ca-a002-be7ea0de5087"
      },
      "source": [
        "\n",
        "subno = df[\"subscribers_no\"]\n",
        "subno_min = subno.min()\n",
        "subno_max = subno.max()\n",
        "\n",
        "result = [normalize_linear(subno_min, subno_max, 0, 1000,x) for x in df['subscribers_no']]\n",
        "del df['subscribers_no']\n",
        "#df[\"subscribers_no\"] = result\n",
        "df.insert(1,\"subscribers_no\", result)\n",
        "\n",
        "annual_water_savings_m3 = df[\"annual_water_savings_m3\"]\n",
        "annual_water_savings_m3_min = annual_water_savings_m3.min()\n",
        "annual_water_savings_m3_max = annual_water_savings_m3.max()\n",
        "\n",
        "result = [normalize_linear(annual_water_savings_m3_min, annual_water_savings_m3_max, 0, 1000,x) for x in df['annual_water_savings_m3']]\n",
        "del df['annual_water_savings_m3']\n",
        "#df[\"annual_water_savings_m3\"] = result\n",
        "df.insert(2,\"annual_water_savings_m3\", result)\n",
        "\n",
        "# for index, row in df.iterrows():\n",
        "#   row[\"subscribers_no\"] = normalize_linear(subno_min, subno_max, 0, 1000,\n",
        "#                                            row[\"subscribers_no\"])\n",
        "  \n",
        "# df\n"
      ],
      "execution_count": 55,
      "outputs": [
        {
          "output_type": "error",
          "ename": "TypeError",
          "evalue": "ignored",
          "traceback": [
            "\u001b[0;31m---------------------------------------------------------------------------\u001b[0m",
            "\u001b[0;31mTypeError\u001b[0m                                 Traceback (most recent call last)",
            "\u001b[0;32m<ipython-input-55-791f313f1bbf>\u001b[0m in \u001b[0;36m<module>\u001b[0;34m()\u001b[0m\n\u001b[1;32m     12\u001b[0m \u001b[0mannual_water_savings_m3_max\u001b[0m \u001b[0;34m=\u001b[0m \u001b[0mannual_water_savings_m3\u001b[0m\u001b[0;34m.\u001b[0m\u001b[0mmax\u001b[0m\u001b[0;34m(\u001b[0m\u001b[0;34m)\u001b[0m\u001b[0;34m\u001b[0m\u001b[0;34m\u001b[0m\u001b[0m\n\u001b[1;32m     13\u001b[0m \u001b[0;34m\u001b[0m\u001b[0m\n\u001b[0;32m---> 14\u001b[0;31m \u001b[0mresult\u001b[0m \u001b[0;34m=\u001b[0m \u001b[0;34m[\u001b[0m\u001b[0mnormalize_linear\u001b[0m\u001b[0;34m(\u001b[0m\u001b[0mannual_water_savings_m3_min\u001b[0m\u001b[0;34m,\u001b[0m \u001b[0mannual_water_savings_m3_max\u001b[0m\u001b[0;34m,\u001b[0m \u001b[0;36m0\u001b[0m\u001b[0;34m,\u001b[0m \u001b[0;36m1000\u001b[0m\u001b[0;34m,\u001b[0m\u001b[0mx\u001b[0m\u001b[0;34m)\u001b[0m \u001b[0;32mfor\u001b[0m \u001b[0mx\u001b[0m \u001b[0;32min\u001b[0m \u001b[0mdf\u001b[0m\u001b[0;34m[\u001b[0m\u001b[0;34m'annual_water_savings_m3'\u001b[0m\u001b[0;34m]\u001b[0m\u001b[0;34m]\u001b[0m\u001b[0;34m\u001b[0m\u001b[0;34m\u001b[0m\u001b[0m\n\u001b[0m\u001b[1;32m     15\u001b[0m \u001b[0;32mdel\u001b[0m \u001b[0mdf\u001b[0m\u001b[0;34m[\u001b[0m\u001b[0;34m'annual_water_savings_m3'\u001b[0m\u001b[0;34m]\u001b[0m\u001b[0;34m\u001b[0m\u001b[0;34m\u001b[0m\u001b[0m\n\u001b[1;32m     16\u001b[0m \u001b[0mdf\u001b[0m\u001b[0;34m[\u001b[0m\u001b[0;34m\"annual_water_savings_m3\"\u001b[0m\u001b[0;34m]\u001b[0m \u001b[0;34m=\u001b[0m \u001b[0mresult\u001b[0m\u001b[0;34m\u001b[0m\u001b[0;34m\u001b[0m\u001b[0m\n",
            "\u001b[0;32m<ipython-input-55-791f313f1bbf>\u001b[0m in \u001b[0;36m<listcomp>\u001b[0;34m(.0)\u001b[0m\n\u001b[1;32m     12\u001b[0m \u001b[0mannual_water_savings_m3_max\u001b[0m \u001b[0;34m=\u001b[0m \u001b[0mannual_water_savings_m3\u001b[0m\u001b[0;34m.\u001b[0m\u001b[0mmax\u001b[0m\u001b[0;34m(\u001b[0m\u001b[0;34m)\u001b[0m\u001b[0;34m\u001b[0m\u001b[0;34m\u001b[0m\u001b[0m\n\u001b[1;32m     13\u001b[0m \u001b[0;34m\u001b[0m\u001b[0m\n\u001b[0;32m---> 14\u001b[0;31m \u001b[0mresult\u001b[0m \u001b[0;34m=\u001b[0m \u001b[0;34m[\u001b[0m\u001b[0mnormalize_linear\u001b[0m\u001b[0;34m(\u001b[0m\u001b[0mannual_water_savings_m3_min\u001b[0m\u001b[0;34m,\u001b[0m \u001b[0mannual_water_savings_m3_max\u001b[0m\u001b[0;34m,\u001b[0m \u001b[0;36m0\u001b[0m\u001b[0;34m,\u001b[0m \u001b[0;36m1000\u001b[0m\u001b[0;34m,\u001b[0m\u001b[0mx\u001b[0m\u001b[0;34m)\u001b[0m \u001b[0;32mfor\u001b[0m \u001b[0mx\u001b[0m \u001b[0;32min\u001b[0m \u001b[0mdf\u001b[0m\u001b[0;34m[\u001b[0m\u001b[0;34m'annual_water_savings_m3'\u001b[0m\u001b[0;34m]\u001b[0m\u001b[0;34m]\u001b[0m\u001b[0;34m\u001b[0m\u001b[0;34m\u001b[0m\u001b[0m\n\u001b[0m\u001b[1;32m     15\u001b[0m \u001b[0;32mdel\u001b[0m \u001b[0mdf\u001b[0m\u001b[0;34m[\u001b[0m\u001b[0;34m'annual_water_savings_m3'\u001b[0m\u001b[0;34m]\u001b[0m\u001b[0;34m\u001b[0m\u001b[0;34m\u001b[0m\u001b[0m\n\u001b[1;32m     16\u001b[0m \u001b[0mdf\u001b[0m\u001b[0;34m[\u001b[0m\u001b[0;34m\"annual_water_savings_m3\"\u001b[0m\u001b[0;34m]\u001b[0m \u001b[0;34m=\u001b[0m \u001b[0mresult\u001b[0m\u001b[0;34m\u001b[0m\u001b[0;34m\u001b[0m\u001b[0m\n",
            "\u001b[0;32m<ipython-input-47-b44c63216c00>\u001b[0m in \u001b[0;36mnormalize_linear\u001b[0;34m(OldMin, OldMax, NewMin, NewMax, OldValue)\u001b[0m\n\u001b[1;32m      1\u001b[0m \u001b[0;32mdef\u001b[0m \u001b[0mnormalize_linear\u001b[0m\u001b[0;34m(\u001b[0m\u001b[0mOldMin\u001b[0m\u001b[0;34m,\u001b[0m \u001b[0mOldMax\u001b[0m\u001b[0;34m,\u001b[0m \u001b[0mNewMin\u001b[0m\u001b[0;34m,\u001b[0m \u001b[0mNewMax\u001b[0m\u001b[0;34m,\u001b[0m \u001b[0mOldValue\u001b[0m\u001b[0;34m)\u001b[0m\u001b[0;34m:\u001b[0m\u001b[0;34m\u001b[0m\u001b[0;34m\u001b[0m\u001b[0m\n\u001b[0;32m----> 2\u001b[0;31m   \u001b[0mNewValue\u001b[0m \u001b[0;34m=\u001b[0m \u001b[0;34m(\u001b[0m\u001b[0;34m(\u001b[0m\u001b[0;34m(\u001b[0m\u001b[0mOldValue\u001b[0m \u001b[0;34m-\u001b[0m \u001b[0mOldMin\u001b[0m\u001b[0;34m)\u001b[0m \u001b[0;34m*\u001b[0m \u001b[0;34m(\u001b[0m\u001b[0mNewMax\u001b[0m \u001b[0;34m-\u001b[0m \u001b[0mNewMin\u001b[0m\u001b[0;34m)\u001b[0m\u001b[0;34m)\u001b[0m \u001b[0;34m/\u001b[0m \u001b[0;34m(\u001b[0m\u001b[0mOldMax\u001b[0m \u001b[0;34m-\u001b[0m \u001b[0mOldMin\u001b[0m\u001b[0;34m)\u001b[0m\u001b[0;34m)\u001b[0m \u001b[0;34m+\u001b[0m \u001b[0mNewMin\u001b[0m\u001b[0;34m\u001b[0m\u001b[0;34m\u001b[0m\u001b[0m\n\u001b[0m\u001b[1;32m      3\u001b[0m   \u001b[0;32mreturn\u001b[0m \u001b[0mNewValue\u001b[0m\u001b[0;34m\u001b[0m\u001b[0;34m\u001b[0m\u001b[0m\n\u001b[1;32m      4\u001b[0m \u001b[0;34m\u001b[0m\u001b[0m\n",
            "\u001b[0;31mTypeError\u001b[0m: unsupported operand type(s) for -: 'str' and 'str'"
          ]
        }
      ]
    },
    {
      "cell_type": "code",
      "metadata": {
        "colab": {
          "base_uri": "https://localhost:8080/",
          "height": 353
        },
        "id": "JrcCIrjA67j7",
        "outputId": "af2b1727-7a7b-4230-c6be-e4b61df3541d"
      },
      "source": [
        "import numpy as np\n",
        "import matplotlib.pyplot as plt\n",
        "data = [[30, 25, 50, 20],\n",
        "[40, 23, 51, 17],\n",
        "[35, 22, 45, 19]]\n",
        "X = np.arange(4)\n",
        "fig = plt.figure()\n",
        "ax = fig.add_axes([0,0,1,1])\n",
        "ax.bar(X + 0.00, data[0], color = 'b', width = 0.25)\n",
        "ax.bar(X + 0.25, data[1], color = 'g', width = 0.25)\n",
        "ax.bar(X + 0.50, data[2], color = 'r', width = 0.25)"
      ],
      "execution_count": 8,
      "outputs": [
        {
          "output_type": "execute_result",
          "data": {
            "text/plain": [
              "<BarContainer object of 4 artists>"
            ]
          },
          "metadata": {},
          "execution_count": 8
        },
        {
          "output_type": "display_data",
          "data": {
            "image/png": "[encoded data removed]",
            "text/plain": [
              "<Figure size 432x288 with 1 Axes>"
            ]
          },
          "metadata": {
            "needs_background": "light"
          }
        }
      ]
    },
    {
      "cell_type": "code",
      "metadata": {
        "colab": {
          "base_uri": "https://localhost:8080/"
        },
        "id": "8Z1z2r6-8XiR",
        "outputId": "a40d3b15-6d8a-421b-8a8f-8304b64e6ec8"
      },
      "source": [
        "var = normalize_linear(0,10,0,1000, 5)\n",
        "print(var)"
      ],
      "execution_count": 24,
      "outputs": [
        {
          "output_type": "stream",
          "name": "stdout",
          "text": [
            "500.0\n"
          ]
        }
      ]
    }
  ]
}